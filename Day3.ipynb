{
 "cells": [
  {
   "cell_type": "code",
   "execution_count": 67,
   "id": "ec4b2570-f455-4f59-af42-debc635c6820",
   "metadata": {},
   "outputs": [],
   "source": [
    "## Load file and read lines\n",
    "file1 = open('inputs/Day3', 'r')\n",
    "bags = file1.readlines()"
   ]
  },
  {
   "cell_type": "code",
   "execution_count": 69,
   "id": "effa3f47-43d6-41fa-9c7a-83d42e37480b",
   "metadata": {},
   "outputs": [],
   "source": [
    "def getPoints(letter):\n",
    "    if letter.isupper():\n",
    "        return(ord(letter) - 64 + 26)\n",
    "    elif letter.islower():\n",
    "        return(ord(letter)- 96)\n",
    "    else:\n",
    "        raise Exception('error')"
   ]
  },
  {
   "cell_type": "markdown",
   "id": "eec310b1-e655-4bb1-8ff8-78adf835f933",
   "metadata": {},
   "source": [
    "## Part 1"
   ]
  },
  {
   "cell_type": "code",
   "execution_count": 68,
   "id": "deb8b5a8-54b0-45ca-a39c-e5146dbe3f52",
   "metadata": {},
   "outputs": [],
   "source": [
    "# First half = one compartment, Second half = second compartment"
   ]
  },
  {
   "cell_type": "code",
   "execution_count": 77,
   "id": "e8d47f4d-4fae-43d8-9650-0a3b39e7b3e5",
   "metadata": {},
   "outputs": [],
   "source": [
    "points = 0\n",
    "\n",
    "for bag in bags:\n",
    "    first = bag[0:int(len(bag)/2)]\n",
    "    second = bag[int(len(bag)/2):]\n",
    "    common = list(set(first).intersection(second))[0]\n",
    "    \n",
    "    points += getPoints(common)"
   ]
  },
  {
   "cell_type": "code",
   "execution_count": 78,
   "id": "f81e98af-2968-481b-b6a8-a42ef19d63d6",
   "metadata": {},
   "outputs": [
    {
     "name": "stdout",
     "output_type": "stream",
     "text": [
      "7908\n"
     ]
    }
   ],
   "source": [
    "print(points)"
   ]
  },
  {
   "cell_type": "markdown",
   "id": "06cc6467-ab8e-406c-ae9d-26a3a5c24157",
   "metadata": {},
   "source": [
    "## Part 2"
   ]
  },
  {
   "cell_type": "code",
   "execution_count": 80,
   "id": "511d4b6e-0173-429e-8cd0-3604775ce85c",
   "metadata": {},
   "outputs": [],
   "source": [
    "points = 0\n",
    "bags_three = []\n",
    "debug = False\n",
    "\n",
    "for i, bag in enumerate(bags):\n",
    "    \n",
    "    bags_three.append(bag[:-1])\n",
    "    \n",
    "    if i%3 == 2:\n",
    "        if debug: print(bags_three)\n",
    "        badge = list(set(bags_three[0]).intersection(bags_three[1], bags_three[2]))[0]\n",
    "        if debug: print(badge)\n",
    "        points += getPoints(badge)\n",
    "        bags_three = []\n"
   ]
  },
  {
   "cell_type": "code",
   "execution_count": 81,
   "id": "01245281-b653-485c-99a0-22bb5da5dd2e",
   "metadata": {},
   "outputs": [
    {
     "name": "stdout",
     "output_type": "stream",
     "text": [
      "2838\n"
     ]
    }
   ],
   "source": [
    "print(points)"
   ]
  }
 ],
 "metadata": {
  "kernelspec": {
   "display_name": "Python 3",
   "language": "python",
   "name": "python3"
  },
  "language_info": {
   "codemirror_mode": {
    "name": "ipython",
    "version": 3
   },
   "file_extension": ".py",
   "mimetype": "text/x-python",
   "name": "python",
   "nbconvert_exporter": "python",
   "pygments_lexer": "ipython3",
   "version": "3.8.8"
  }
 },
 "nbformat": 4,
 "nbformat_minor": 5
}
