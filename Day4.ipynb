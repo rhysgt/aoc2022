{
 "cells": [
  {
   "cell_type": "code",
   "execution_count": 13,
   "id": "ae85e35b-2446-4624-bd5b-acd33e344b69",
   "metadata": {},
   "outputs": [],
   "source": [
    "import numpy as np"
   ]
  },
  {
   "cell_type": "code",
   "execution_count": 14,
   "id": "ec4b2570-f455-4f59-af42-debc635c6820",
   "metadata": {},
   "outputs": [],
   "source": [
    "## Load file and read lines\n",
    "file1 = open('inputs/Day4', 'r')\n",
    "bags = file1.readlines()"
   ]
  },
  {
   "cell_type": "code",
   "execution_count": 25,
   "id": "802b985f-1abd-43a8-a26e-7c8dd432f1d6",
   "metadata": {},
   "outputs": [
    {
     "name": "stdout",
     "output_type": "stream",
     "text": [
      "1000\n"
     ]
    }
   ],
   "source": [
    "print(len(bags))"
   ]
  },
  {
   "cell_type": "markdown",
   "id": "eec310b1-e655-4bb1-8ff8-78adf835f933",
   "metadata": {},
   "source": [
    "## Part 1"
   ]
  },
  {
   "cell_type": "code",
   "execution_count": 40,
   "id": "e8d47f4d-4fae-43d8-9650-0a3b39e7b3e5",
   "metadata": {},
   "outputs": [],
   "source": [
    "count = 0\n",
    "debug = False\n",
    "\n",
    "for bag in bags:\n",
    "    \n",
    "    bag = bag.split(',')\n",
    "    \n",
    "    # np.arange does not include final number so add one\n",
    "    elf1 = np.arange(int(bag[0].split('-')[0]), int(bag[0].split('-')[1])+1)\n",
    "    elf2 = np.arange(int(bag[1].split('-')[0]), int(bag[1].split('-')[1])+1)\n",
    "    \n",
    "    if debug: print(elf1, elf2)\n",
    "    \n",
    "    if set(elf1).issubset(elf2) or set(elf2).issubset(elf1):\n",
    "        count += 1\n",
    "        if debug: print('***')\n",
    "        \n"
   ]
  },
  {
   "cell_type": "code",
   "execution_count": 41,
   "id": "f81e98af-2968-481b-b6a8-a42ef19d63d6",
   "metadata": {},
   "outputs": [
    {
     "name": "stdout",
     "output_type": "stream",
     "text": [
      "441\n"
     ]
    }
   ],
   "source": [
    "print(count)"
   ]
  },
  {
   "cell_type": "markdown",
   "id": "06cc6467-ab8e-406c-ae9d-26a3a5c24157",
   "metadata": {},
   "source": [
    "## Part 2"
   ]
  },
  {
   "cell_type": "code",
   "execution_count": 42,
   "id": "e4f6b1bc-de82-45ed-8e1a-dd8a15ee25bc",
   "metadata": {},
   "outputs": [],
   "source": [
    "count = 0\n",
    "debug = False\n",
    "\n",
    "for bag in bags:\n",
    "    \n",
    "    bag = bag.split(',')\n",
    "    \n",
    "    # np.arange does not include final number so add one\n",
    "    elf1 = np.arange(int(bag[0].split('-')[0]), int(bag[0].split('-')[1])+1)\n",
    "    elf2 = np.arange(int(bag[1].split('-')[0]), int(bag[1].split('-')[1])+1)\n",
    "    \n",
    "    if debug: print(elf1, elf2)\n",
    "    \n",
    "    if len(set(elf1).intersection(elf2)) > 0:\n",
    "        count += 1\n",
    "        if debug: print('***')\n",
    "        \n"
   ]
  },
  {
   "cell_type": "code",
   "execution_count": 43,
   "id": "01addc9b-5ecc-4f9b-a36c-4c531e90c7af",
   "metadata": {},
   "outputs": [
    {
     "name": "stdout",
     "output_type": "stream",
     "text": [
      "861\n"
     ]
    }
   ],
   "source": [
    "print(count)"
   ]
  },
  {
   "cell_type": "code",
   "execution_count": null,
   "id": "a9ade488-aa87-4784-8dd7-2dd36220a998",
   "metadata": {},
   "outputs": [],
   "source": []
  }
 ],
 "metadata": {
  "kernelspec": {
   "display_name": "Python 3",
   "language": "python",
   "name": "python3"
  },
  "language_info": {
   "codemirror_mode": {
    "name": "ipython",
    "version": 3
   },
   "file_extension": ".py",
   "mimetype": "text/x-python",
   "name": "python",
   "nbconvert_exporter": "python",
   "pygments_lexer": "ipython3",
   "version": "3.8.8"
  }
 },
 "nbformat": 4,
 "nbformat_minor": 5
}
