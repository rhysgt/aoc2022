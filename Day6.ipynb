{
 "cells": [
  {
   "cell_type": "code",
   "execution_count": 11,
   "id": "ec4b2570-f455-4f59-af42-debc635c6820",
   "metadata": {},
   "outputs": [],
   "source": [
    "file1 = open('inputs/Day6', 'r')\n",
    "lines = file1.readlines()"
   ]
  },
  {
   "cell_type": "code",
   "execution_count": 72,
   "id": "d55bd715-8542-4a28-a14f-15a676cb3474",
   "metadata": {},
   "outputs": [],
   "source": [
    "length = 14"
   ]
  },
  {
   "cell_type": "code",
   "execution_count": 73,
   "id": "ee16f61e-5a28-45a2-a761-490b091d30d3",
   "metadata": {},
   "outputs": [],
   "source": [
    "mylist = []\n",
    "for i in range(length):\n",
    "    mylist.append(lines[0][i:])"
   ]
  },
  {
   "cell_type": "code",
   "execution_count": 74,
   "id": "dc97721b-82f0-40d6-901a-c7a2d1106e25",
   "metadata": {},
   "outputs": [
    {
     "name": "stdout",
     "output_type": "stream",
     "text": [
      "2260\n"
     ]
    }
   ],
   "source": [
    "for i, newlist in enumerate(zip(*mylist)):\n",
    "    if len(set(newlist)) == length:\n",
    "        print(length + i)\n",
    "        break"
   ]
  }
 ],
 "metadata": {
  "kernelspec": {
   "display_name": "Python 3",
   "language": "python",
   "name": "python3"
  },
  "language_info": {
   "codemirror_mode": {
    "name": "ipython",
    "version": 3
   },
   "file_extension": ".py",
   "mimetype": "text/x-python",
   "name": "python",
   "nbconvert_exporter": "python",
   "pygments_lexer": "ipython3",
   "version": "3.8.8"
  }
 },
 "nbformat": 4,
 "nbformat_minor": 5
}
