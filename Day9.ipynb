{
 "cells": [
  {
   "cell_type": "code",
   "execution_count": 142,
   "id": "ec4b2570-f455-4f59-af42-debc635c6820",
   "metadata": {},
   "outputs": [],
   "source": [
    "import numpy as np\n",
    "\n",
    "file1 = open('inputs/Day9', 'r')\n",
    "lines = file1.readlines()"
   ]
  },
  {
   "cell_type": "markdown",
   "id": "7e7369a7-4ec7-46d3-aba1-7cc07ed24b07",
   "metadata": {},
   "source": [
    "## Part 1"
   ]
  },
  {
   "cell_type": "code",
   "execution_count": 147,
   "id": "12f63624-d959-47cf-b62f-746b453a8d5b",
   "metadata": {},
   "outputs": [],
   "source": [
    "debug = False\n",
    "\n",
    "# Initialise arrays and sets\n",
    "positions = np.array([[5000, 5000], [5000, 5000]])\n",
    "\n",
    "all_tail_pos = set()\n",
    "all_tail_pos.add(tuple([positions[-1][0], positions[-1][1]]))\n",
    "\n",
    "for line in lines:\n",
    "    \n",
    "    # Number of moves\n",
    "    move = line[2:]\n",
    "    \n",
    "    # Move head\n",
    "    for i in range(int(move)):\n",
    "        if line[0] == 'R':\n",
    "            if debug: print('Move R')\n",
    "            positions[0][0] += 1\n",
    "    \n",
    "        elif line[0] == 'L':\n",
    "            if debug: print('Move L')\n",
    "            positions[0][0] -= 1\n",
    "\n",
    "        elif line[0] == 'U':\n",
    "            if debug: print('Move U')\n",
    "            positions[0][1] -= 1\n",
    "\n",
    "        elif line[0] == 'D':\n",
    "            if debug: print('Move D')\n",
    "            positions[0][1] += 1\n",
    "            \n",
    "        for i, tail in enumerate(positions[1:]):\n",
    "        \n",
    "            # if tail adjacent, don't move tail\n",
    "            if positions[i][0]-1 <= tail[0] <= positions[i][0]+1 and positions[i][1]-1 <= tail[1] <= positions[i][1]+1:\n",
    "                if debug: print('Adjacent')\n",
    "\n",
    "            # Otherwise move tail closer to head\n",
    "            else:\n",
    "\n",
    "                # Test all possible moves and find tail to head distance\n",
    "                tries = [[-1, 0], [1, 0], [0, -1], [0, 1], [-1, -1], [-1, 1], [1, -1], [1, 1]]\n",
    "                scores = []\n",
    "\n",
    "                for attempt in tries:\n",
    "                    tail += attempt\n",
    "                    scores.append(np.sum(np.abs(positions[i]-tail)))\n",
    "                    tail -= attempt\n",
    "\n",
    "                tail += tries[np.argmin(np.abs(scores))]\n",
    "\n",
    "                if debug: print(scores)\n",
    "                if debug: print(np.argmin(np.abs(scores)))\n",
    "                    \n",
    "\n",
    "        # Update positions visited by tail\n",
    "        all_tail_pos.add(tuple([positions[-1][0], positions[-1][1]]))\n"
   ]
  },
  {
   "cell_type": "code",
   "execution_count": 148,
   "id": "a7ba6172-8e05-4360-8501-b3327dd22924",
   "metadata": {},
   "outputs": [
    {
     "name": "stdout",
     "output_type": "stream",
     "text": [
      "6026\n"
     ]
    }
   ],
   "source": [
    "print(len(all_tail_pos))"
   ]
  },
  {
   "cell_type": "markdown",
   "id": "0e884d58-469e-44ca-8b05-7c833ed9c243",
   "metadata": {},
   "source": [
    "## Part 2"
   ]
  },
  {
   "cell_type": "code",
   "execution_count": 149,
   "id": "ba37776b-c13b-4e5e-9dc8-fea6271321c7",
   "metadata": {},
   "outputs": [],
   "source": [
    "debug = False\n",
    "\n",
    "# Initialise arrays and sets\n",
    "positions = np.array([[5000, 5000], [5000, 5000], [5000, 5000], [5000, 5000], [5000, 5000], [5000, 5000], [5000, 5000], [5000, 5000], [5000, 5000], [5000, 5000]])\n",
    "\n",
    "all_tail_pos = set()\n",
    "all_tail_pos.add(tuple([positions[-1][0], positions[-1][1]]))\n",
    "\n",
    "for line in lines:\n",
    "    \n",
    "    # Number of moves\n",
    "    move = line[2:]\n",
    "    \n",
    "    # Move head\n",
    "    for i in range(int(move)):\n",
    "        if line[0] == 'R':\n",
    "            if debug: print('Move R')\n",
    "            positions[0][0] += 1\n",
    "    \n",
    "        elif line[0] == 'L':\n",
    "            if debug: print('Move L')\n",
    "            positions[0][0] -= 1\n",
    "\n",
    "        elif line[0] == 'U':\n",
    "            if debug: print('Move U')\n",
    "            positions[0][1] -= 1\n",
    "\n",
    "        elif line[0] == 'D':\n",
    "            if debug: print('Move D')\n",
    "            positions[0][1] += 1\n",
    "            \n",
    "        for i, tail in enumerate(positions[1:]):\n",
    "        \n",
    "            # if tail adjacent, don't move tail\n",
    "            if positions[i][0]-1 <= tail[0] <= positions[i][0]+1 and positions[i][1]-1 <= tail[1] <= positions[i][1]+1:\n",
    "                if debug: print('Adjacent')\n",
    "\n",
    "            # Otherwise move tail closer to head\n",
    "            else:\n",
    "\n",
    "                # Test all possible moves and find tail to head distance\n",
    "                tries = [[-1, 0], [1, 0], [0, -1], [0, 1], [-1, -1], [-1, 1], [1, -1], [1, 1]]\n",
    "                scores = []\n",
    "\n",
    "                for attempt in tries:\n",
    "                    tail += attempt\n",
    "                    scores.append(np.sum(np.abs(positions[i]-tail)))\n",
    "                    tail -= attempt\n",
    "\n",
    "                tail += tries[np.argmin(np.abs(scores))]\n",
    "\n",
    "                if debug: print(scores)\n",
    "                if debug: print(np.argmin(np.abs(scores)))\n",
    "                    \n",
    "\n",
    "        # Update positions visited by tail\n",
    "        all_tail_pos.add(tuple([positions[-1][0], positions[-1][1]]))\n"
   ]
  },
  {
   "cell_type": "code",
   "execution_count": 150,
   "id": "e1fd7513-5a02-4e9e-bd34-7ec917c99cbf",
   "metadata": {},
   "outputs": [
    {
     "name": "stdout",
     "output_type": "stream",
     "text": [
      "2273\n"
     ]
    }
   ],
   "source": [
    "print(len(all_tail_pos))"
   ]
  },
  {
   "cell_type": "code",
   "execution_count": null,
   "id": "5a536fed-45fd-4064-984a-d595892bac71",
   "metadata": {},
   "outputs": [],
   "source": []
  }
 ],
 "metadata": {
  "kernelspec": {
   "display_name": "Python 3",
   "language": "python",
   "name": "python3"
  },
  "language_info": {
   "codemirror_mode": {
    "name": "ipython",
    "version": 3
   },
   "file_extension": ".py",
   "mimetype": "text/x-python",
   "name": "python",
   "nbconvert_exporter": "python",
   "pygments_lexer": "ipython3",
   "version": "3.8.8"
  }
 },
 "nbformat": 4,
 "nbformat_minor": 5
}
