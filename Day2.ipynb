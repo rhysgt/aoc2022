{
 "cells": [
  {
   "cell_type": "code",
   "execution_count": 6,
   "id": "ec4b2570-f455-4f59-af42-debc635c6820",
   "metadata": {},
   "outputs": [],
   "source": [
    "import numpy as np"
   ]
  },
  {
   "cell_type": "code",
   "execution_count": 9,
   "id": "40d3eb32-3486-47ce-b2ed-5ae5da68f2df",
   "metadata": {},
   "outputs": [],
   "source": [
    "data = np.loadtxt('inputs/Day2', delimiter = \" \", dtype=str)"
   ]
  },
  {
   "cell_type": "code",
   "execution_count": 12,
   "id": "b4c5c1fe-8305-4ce6-a3fd-fa3540c79cb3",
   "metadata": {},
   "outputs": [],
   "source": [
    "# The first column is what your opponent is going to play: A for Rock, B for Paper, and C for Scissors.\n",
    "# The second column, you reason, must be what you should play in response: X for Rock, Y for Paper, and Z for Scissors."
   ]
  },
  {
   "cell_type": "code",
   "execution_count": 24,
   "id": "4e5dada3-f5fd-4b3f-b87a-15c9c01f13a7",
   "metadata": {},
   "outputs": [],
   "source": [
    "# Convert letters to numbers for lookup\n",
    "lookup_opponent = {'A':0, 'B':1, 'C':2}\n",
    "lookup_me = {'X':0, 'Y':1, 'Z':2}"
   ]
  },
  {
   "cell_type": "code",
   "execution_count": 25,
   "id": "d401f28f-22bb-4b53-a1f5-6b505609a279",
   "metadata": {},
   "outputs": [],
   "source": [
    "#                       Me > 0(Rock)  1(Paper)  2(Scissors)\n",
    "#             0(Rock)           3        6            0\n",
    "# Opponent >  1(Paper)          0        3            6\n",
    "#             2(Scissors)       6        0            3"
   ]
  },
  {
   "cell_type": "code",
   "execution_count": 48,
   "id": "3e17e51a-c41f-4a69-b5d2-4fcfb8e50e52",
   "metadata": {},
   "outputs": [
    {
     "name": "stdout",
     "output_type": "stream",
     "text": [
      "[[3 6 0]\n",
      " [0 3 6]\n",
      " [6 0 3]]\n"
     ]
    }
   ],
   "source": [
    "# Array, where y = opponent, x = me, and result = number of points\n",
    "\n",
    "array = np.array([[3,6,0],[0,3,6],[6,0,3]])\n",
    "print(array)"
   ]
  },
  {
   "cell_type": "code",
   "execution_count": 49,
   "id": "77423f79-b882-424a-8989-8b7cc88b5e0f",
   "metadata": {},
   "outputs": [],
   "source": [
    "sum_points = 0\n",
    "\n",
    "for row in data:\n",
    "    \n",
    "    opponent = lookup_opponent[row[0]]\n",
    "    me = lookup_me[row[1]]\n",
    "    \n",
    "    point = array[opponent][me]\n",
    "    \n",
    "    points = point + (me + 1)\n",
    "    \n",
    "    #print('{} {} {} {}'.format(opponent, me, point, points))\n",
    "    \n",
    "    sum_points += points"
   ]
  },
  {
   "cell_type": "code",
   "execution_count": 50,
   "id": "773ce2c6-0bc1-44c5-b34d-352ec3591560",
   "metadata": {},
   "outputs": [
    {
     "name": "stdout",
     "output_type": "stream",
     "text": [
      "12645\n"
     ]
    }
   ],
   "source": [
    "print(sum_points)"
   ]
  },
  {
   "cell_type": "code",
   "execution_count": null,
   "id": "d9954ddf-a9ba-4a12-a947-0a675990f7b1",
   "metadata": {},
   "outputs": [],
   "source": []
  },
  {
   "cell_type": "code",
   "execution_count": 51,
   "id": "7a5b7d36-6fff-454f-b0a9-9ebb6d11efd2",
   "metadata": {},
   "outputs": [],
   "source": [
    "sum_points = 0\n",
    "\n",
    "for row in data:\n",
    "    \n",
    "    opponent = lookup_opponent[row[0]]\n",
    "    \n",
    "    \n",
    "    me_want = lookup_me[row[1]]\n",
    "    \n",
    "    me = np.argmin(abs(array[opponent] - (me_want*3)))\n",
    "    \n",
    "    point = array[opponent][me]\n",
    "    \n",
    "    points = point + (me + 1)\n",
    "    \n",
    "    #print('{} {} {} {}'.format(opponent, me, point, points))\n",
    "    \n",
    "    sum_points += points"
   ]
  },
  {
   "cell_type": "code",
   "execution_count": 52,
   "id": "b83f1996-db9a-4b94-b4cf-c64a3e80f326",
   "metadata": {},
   "outputs": [
    {
     "name": "stdout",
     "output_type": "stream",
     "text": [
      "11756\n"
     ]
    }
   ],
   "source": [
    "print(sum_points)"
   ]
  },
  {
   "cell_type": "code",
   "execution_count": null,
   "id": "9f240f68-2c7c-4519-bf1b-aa3c3a78116c",
   "metadata": {},
   "outputs": [],
   "source": []
  }
 ],
 "metadata": {
  "kernelspec": {
   "display_name": "Python 3",
   "language": "python",
   "name": "python3"
  },
  "language_info": {
   "codemirror_mode": {
    "name": "ipython",
    "version": 3
   },
   "file_extension": ".py",
   "mimetype": "text/x-python",
   "name": "python",
   "nbconvert_exporter": "python",
   "pygments_lexer": "ipython3",
   "version": "3.8.8"
  }
 },
 "nbformat": 4,
 "nbformat_minor": 5
}
