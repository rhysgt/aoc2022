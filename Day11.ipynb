{
 "cells": [
  {
   "cell_type": "code",
   "execution_count": 46,
   "id": "ec4b2570-f455-4f59-af42-debc635c6820",
   "metadata": {},
   "outputs": [],
   "source": [
    "import numpy as np\n",
    "import ast\n",
    "\n",
    "file1 = open('inputs/Day11', 'r')\n",
    "lines = file1.readlines()"
   ]
  },
  {
   "cell_type": "code",
   "execution_count": 47,
   "id": "2690686e-c127-4190-bdf5-17ff6621a251",
   "metadata": {},
   "outputs": [],
   "source": [
    "# Parse the data into lists\n",
    "\n",
    "monkeys = []\n",
    "monkey_operation = []\n",
    "monkey_true = []\n",
    "monkey_false = []\n",
    "monkey_test = []\n",
    "\n",
    "monkey_iters = np.array([0, 0, 0, 0, 0, 0, 0, 0])\n",
    "\n",
    "for line in lines:\n",
    "    if line.startswith('  Starting items'):\n",
    "        monkeys.append(line[18:-1].split(', '))\n",
    "        \n",
    "    if line.startswith('  Operation'):\n",
    "        monkey_operation.append(line[13:-1])\n",
    "    \n",
    "    if line.startswith('  Test'):\n",
    "        monkey_test.append(int(line[20:-1]))\n",
    "    \n",
    "    if line.startswith('    If true'):\n",
    "        monkey_true.append(int(line[29:-1]))\n",
    "        \n",
    "    if line.startswith('    If false'):\n",
    "        monkey_false.append(int(line[30:-1]))\n"
   ]
  },
  {
   "cell_type": "code",
   "execution_count": 48,
   "id": "3eb69c9b-4dca-4b97-8d93-bc47804e3633",
   "metadata": {},
   "outputs": [
    {
     "data": {
      "text/plain": [
       "[['91', '66'],\n",
       " ['78', '97', '59'],\n",
       " ['57', '59', '97', '84', '72', '83', '56', '76'],\n",
       " ['81', '78', '70', '58', '84'],\n",
       " ['60'],\n",
       " ['57', '69', '63', '75', '62', '77', '72'],\n",
       " ['73', '66', '86', '79', '98', '87'],\n",
       " ['95', '89', '63', '67']]"
      ]
     },
     "execution_count": 48,
     "metadata": {},
     "output_type": "execute_result"
    }
   ],
   "source": [
    "monkeys"
   ]
  },
  {
   "cell_type": "code",
   "execution_count": 49,
   "id": "d9b83fd8-6540-420a-8e2b-fcc1974fcad6",
   "metadata": {},
   "outputs": [],
   "source": [
    "lcm = np.lcm.reduce(monkey_test)"
   ]
  },
  {
   "cell_type": "markdown",
   "id": "6c04fe1a-a877-496d-aa3e-99211d16e0ef",
   "metadata": {},
   "source": [
    "## Part 1"
   ]
  },
  {
   "cell_type": "code",
   "execution_count": 52,
   "id": "11b52ddd-33e1-4dac-99ca-ad00b97582c5",
   "metadata": {},
   "outputs": [
    {
     "name": "stdout",
     "output_type": "stream",
     "text": [
      "99.99 %"
     ]
    }
   ],
   "source": [
    "debug = False\n",
    "\n",
    "numRounds = 10000\n",
    "\n",
    "for j in range(numRounds):\n",
    "    \n",
    "    if j % numRounds/10:\n",
    "        print('\\r' + str(j/100) + ' %', end='')\n",
    "\n",
    "    for i in range(len(monkeys)):\n",
    "        \n",
    "        monkey = monkeys[i]\n",
    "        \n",
    "        if debug: print('Monkey {}: Items: {}'.format(i, monkey))\n",
    "     \n",
    "        item_to_remove = []\n",
    "        item_to_move = []\n",
    "        monkey_to_move_to = []\n",
    "\n",
    "        for item in monkey:\n",
    "            \n",
    "            monkey_iters[i] +=1\n",
    "\n",
    "            if debug: print('    Item ' + item)\n",
    "                \n",
    "            operator = monkey_operation[i].split(' ')[-2]\n",
    "            number = monkey_operation[i].split(' ')[-1]\n",
    "\n",
    "            if number == 'old':\n",
    "                number = np.copy(item)\n",
    "\n",
    "            if operator == '+':\n",
    "                new = int(item) + int(number)\n",
    "            if operator == '-':\n",
    "                new = int(item) - int(number)\n",
    "            if operator == '*':\n",
    "                new = int(item) * int(number)\n",
    "            if operator == '/':\n",
    "                new = int(item) / int(number)\n",
    "                \n",
    "            new = new % lcm\n",
    "            \n",
    "            if debug: print('        New val = {}'.format(new))\n",
    "            item_to_move.append(new)\n",
    "\n",
    "            divisor = int(monkey_test[i])\n",
    "            \n",
    "            if new % divisor == 0:\n",
    "                if debug: print('        True: move to {}'.format(int(monkey_true[i])))\n",
    "                monkey_to_move_to.append(int(monkey_true[i]))\n",
    "            else: \n",
    "                if debug: print('        False: move to {}'.format(int(monkey_false[i])))\n",
    "                monkey_to_move_to.append(int(monkey_false[i]))\n",
    "        \n",
    "        for a, b in zip(item_to_move, monkey_to_move_to):\n",
    "            \n",
    "            monkeys[b].append(str(a))\n",
    "            monkeys[i].pop(0)\n"
   ]
  },
  {
   "cell_type": "code",
   "execution_count": 53,
   "id": "4a0f72ad-7618-464a-835b-b99aee50f37e",
   "metadata": {},
   "outputs": [
    {
     "data": {
      "text/plain": [
       "array([279895, 162863, 281846, 237730, 134723,  41934,  20282, 244437])"
      ]
     },
     "execution_count": 53,
     "metadata": {},
     "output_type": "execute_result"
    }
   ],
   "source": [
    "monkey_iters"
   ]
  },
  {
   "cell_type": "code",
   "execution_count": 54,
   "id": "1b620d15-9803-4df9-8cda-0b91c7f1f1f9",
   "metadata": {},
   "outputs": [
    {
     "data": {
      "text/plain": [
       "78887286170"
      ]
     },
     "execution_count": 54,
     "metadata": {},
     "output_type": "execute_result"
    }
   ],
   "source": [
    "sorted(monkey_iters)[-1] * sorted(monkey_iters)[-2]"
   ]
  },
  {
   "cell_type": "code",
   "execution_count": null,
   "id": "1280f011-4ea4-435b-97b7-a6a155941229",
   "metadata": {},
   "outputs": [],
   "source": []
  }
 ],
 "metadata": {
  "kernelspec": {
   "display_name": "Python 3",
   "language": "python",
   "name": "python3"
  },
  "language_info": {
   "codemirror_mode": {
    "name": "ipython",
    "version": 3
   },
   "file_extension": ".py",
   "mimetype": "text/x-python",
   "name": "python",
   "nbconvert_exporter": "python",
   "pygments_lexer": "ipython3",
   "version": "3.8.8"
  }
 },
 "nbformat": 4,
 "nbformat_minor": 5
}
