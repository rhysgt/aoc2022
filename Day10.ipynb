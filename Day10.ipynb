{
 "cells": [
  {
   "cell_type": "code",
   "execution_count": 138,
   "id": "ec4b2570-f455-4f59-af42-debc635c6820",
   "metadata": {},
   "outputs": [],
   "source": [
    "import numpy as np\n",
    "\n",
    "file1 = open('inputs/Day10', 'r')\n",
    "lines = file1.readlines()"
   ]
  },
  {
   "cell_type": "code",
   "execution_count": 149,
   "id": "76abd8e5-5a6a-40e4-9ead-a37c534ccd76",
   "metadata": {},
   "outputs": [],
   "source": [
    "debug = False\n",
    "cycle = 0\n",
    "X = 1\n",
    "\n",
    "CRT = []\n",
    "during = []\n",
    "\n",
    "for i, line in enumerate(lines):\n",
    "\n",
    "    if debug: print('Cycle {}'.format(cycle))\n",
    "        \n",
    "    sprite_pos = np.full(40, 0)\n",
    "    sprite_pos[X-1:X+2] = 1\n",
    "\n",
    "        \n",
    "    if line.startswith('noop'):\n",
    "        if debug: print('    Execute ' + line[:-1])\n",
    "        if debug: print('    During X = {}'.format(X))\n",
    "        during.append(X)\n",
    "        \n",
    "        if np.tile(sprite_pos, 6)[cycle] == 1:\n",
    "            CRT.append('#')\n",
    "        else:\n",
    "            CRT.append('.')\n",
    "            \n",
    "        if debug: print('    After X = {}\\n'.format(X))\n",
    "\n",
    "\n",
    "    elif line.startswith('addx'):\n",
    "        \n",
    "        if debug: print('    Execute ' + line[:-1])\n",
    "        if debug: print('    During X = {}'.format(X))\n",
    "        during.append(X)\n",
    "        \n",
    "        if np.tile(sprite_pos, 6)[cycle] == 1:\n",
    "            CRT.append('#')\n",
    "        else:\n",
    "            CRT.append('.')\n",
    "\n",
    "        if debug: print('    After X = {}\\n'.format(X))\n",
    "\n",
    "\n",
    "        cycle += 1\n",
    "        \n",
    "        if debug: print('Cycle {}'.format(cycle))\n",
    "\n",
    "        if debug: print('    Still executing ' + line[:-1])\n",
    "        if debug: print('    During X = {}'.format(X))\n",
    "        during.append(X)\n",
    "        \n",
    "        if np.tile(sprite_pos, 6)[cycle] == 1:\n",
    "            CRT.append('#')\n",
    "        else:\n",
    "            CRT.append('.')\n",
    "                \n",
    "        X += int(line[5:])\n",
    "\n",
    "        if debug: print('    After X = {}\\n'.format(X))\n",
    "  \n",
    "    cycle += 1"
   ]
  },
  {
   "cell_type": "code",
   "execution_count": 150,
   "id": "93130854-ac1e-4155-bcea-3273048a5f64",
   "metadata": {},
   "outputs": [
    {
     "data": {
      "text/plain": [
       "16060"
      ]
     },
     "execution_count": 150,
     "metadata": {},
     "output_type": "execute_result"
    }
   ],
   "source": [
    "during[19]*20 + during[59]*60 + during[99]*100 + during[139]*140 + during[179]*180 + during[219]*220"
   ]
  },
  {
   "cell_type": "code",
   "execution_count": 151,
   "id": "5338d73b-8a58-4bba-954f-21813605eb9e",
   "metadata": {},
   "outputs": [
    {
     "name": "stdout",
     "output_type": "stream",
     "text": [
      "# # # . . . # # . . . # # . . # # # # . # . . # . # . . . . # . . # . # # # # . \n",
      ". . . # . # . . # . # . . # . # . . . . # . # . . # . . . . # . . # . # . . . . \n",
      ". . # . . # . . # . # . . . . # # # . . # # . . . # . . . . # # # # . # # # . . \n",
      ". . . # . # # # # . # . . . . # . . . . # . # . . # . . . . # . . # . # . . . . \n",
      "# . . # . # . . # . # . . # . # . . . . # . # . . # . . . . # . . # . # . . . . \n",
      "# # # . . # . . # . . # # . . # # # # . # . . # . # # # # . # . . # . # . . . . \n"
     ]
    }
   ],
   "source": [
    "for i, row in enumerate(CRT):\n",
    "    print(row + ' ', end='')\n",
    "    \n",
    "    if (i+1) % 40 == 0:\n",
    "        if i != 0:\n",
    "            print()\n",
    "    \n",
    "\n"
   ]
  },
  {
   "cell_type": "code",
   "execution_count": null,
   "id": "2690686e-c127-4190-bdf5-17ff6621a251",
   "metadata": {},
   "outputs": [],
   "source": []
  },
  {
   "cell_type": "code",
   "execution_count": null,
   "id": "11b52ddd-33e1-4dac-99ca-ad00b97582c5",
   "metadata": {},
   "outputs": [],
   "source": []
  }
 ],
 "metadata": {
  "kernelspec": {
   "display_name": "Python 3",
   "language": "python",
   "name": "python3"
  },
  "language_info": {
   "codemirror_mode": {
    "name": "ipython",
    "version": 3
   },
   "file_extension": ".py",
   "mimetype": "text/x-python",
   "name": "python",
   "nbconvert_exporter": "python",
   "pygments_lexer": "ipython3",
   "version": "3.8.8"
  }
 },
 "nbformat": 4,
 "nbformat_minor": 5
}
