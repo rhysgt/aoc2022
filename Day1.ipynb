{
 "cells": [
  {
   "cell_type": "code",
   "execution_count": 22,
   "id": "ec4b2570-f455-4f59-af42-debc635c6820",
   "metadata": {},
   "outputs": [],
   "source": [
    "## Load file and read lines\n",
    "file1 = open('inputs/Day1', 'r')\n",
    "Lines = file1.readlines()\n"
   ]
  },
  {
   "cell_type": "code",
   "execution_count": 25,
   "id": "9023ee27-b5f8-4841-b813-0b4fb3396c19",
   "metadata": {},
   "outputs": [],
   "source": [
    "## Count the number of calories each reindeer is carrying and append to list\n",
    "\n",
    "reindeer = []\n",
    "count = 0\n",
    "\n",
    "for line in Lines:\n",
    "    if line != '\\n':\n",
    "        count += int(line)\n",
    "\n",
    "    elif line == '\\n':\n",
    "        reindeer.append(int(count))\n",
    "        count=0"
   ]
  },
  {
   "cell_type": "code",
   "execution_count": 29,
   "id": "e11f360a-dc43-4498-8228-4e81828c32da",
   "metadata": {},
   "outputs": [
    {
     "name": "stdout",
     "output_type": "stream",
     "text": [
      "72718\n"
     ]
    }
   ],
   "source": [
    "print(np.max(reindeer))"
   ]
  },
  {
   "cell_type": "code",
   "execution_count": 40,
   "id": "232d07b6-0e9f-47ef-bb7b-931bf5869e5a",
   "metadata": {},
   "outputs": [
    {
     "name": "stdout",
     "output_type": "stream",
     "text": [
      "[69921 70450 72718]\n"
     ]
    }
   ],
   "source": [
    "topthree = np.sort(reindeer)[-3:]\n",
    "print(topthree)"
   ]
  },
  {
   "cell_type": "code",
   "execution_count": 41,
   "id": "ab3e7231-e27a-4cdb-822d-ab4144ed2b9c",
   "metadata": {},
   "outputs": [
    {
     "data": {
      "text/plain": [
       "213089"
      ]
     },
     "execution_count": 41,
     "metadata": {},
     "output_type": "execute_result"
    }
   ],
   "source": [
    "np.sum(topthree)"
   ]
  }
 ],
 "metadata": {
  "kernelspec": {
   "display_name": "Python 3",
   "language": "python",
   "name": "python3"
  },
  "language_info": {
   "codemirror_mode": {
    "name": "ipython",
    "version": 3
   },
   "file_extension": ".py",
   "mimetype": "text/x-python",
   "name": "python",
   "nbconvert_exporter": "python",
   "pygments_lexer": "ipython3",
   "version": "3.8.8"
  }
 },
 "nbformat": 4,
 "nbformat_minor": 5
}
