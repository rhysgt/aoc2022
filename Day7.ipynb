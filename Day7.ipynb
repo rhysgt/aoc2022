{
 "cells": [
  {
   "cell_type": "code",
   "execution_count": 553,
   "id": "ec4b2570-f455-4f59-af42-debc635c6820",
   "metadata": {},
   "outputs": [],
   "source": [
    "file1 = open('inputs/Day7', 'r')\n",
    "lines = file1.readlines()"
   ]
  },
  {
   "cell_type": "markdown",
   "id": "7e7369a7-4ec7-46d3-aba1-7cc07ed24b07",
   "metadata": {},
   "source": [
    "## Part 1"
   ]
  },
  {
   "cell_type": "markdown",
   "id": "27800ef9-d8fc-435b-8e4a-b1ebf9d2802c",
   "metadata": {},
   "source": [
    "Total sizes of files in a given directory"
   ]
  },
  {
   "cell_type": "code",
   "execution_count": 554,
   "id": "d55bd715-8542-4a28-a14f-15a676cb3474",
   "metadata": {},
   "outputs": [],
   "source": [
    "folder = '/'\n",
    "size = 0\n",
    "total = 0\n",
    "\n",
    "thisdict = {}\n",
    "    \n",
    "for line in lines[1:]:\n",
    "    \n",
    "    ## If command\n",
    "    if line[0] == '$':\n",
    "        \n",
    "        # Command: change directory\n",
    "        if line.startswith('$ cd'):\n",
    "            \n",
    "            size=0\n",
    "\n",
    "            # Command: move forward in tree\n",
    "            if line[5:7] != '..':\n",
    "                \n",
    "                folder += line[5:-1]\n",
    "                folder += \"/\"\n",
    "            \n",
    "            # Command: move backwards in tree\n",
    "            elif line[5:7] == '..':\n",
    "                folder = '/'.join(folder.split('/')[:-2]) + '/'\n",
    "\n",
    "        \n",
    "    # File\n",
    "    elif line[0:4] != 'dir ':\n",
    "        filesize =  int(line.split(' ')[-2])\n",
    "        size += filesize\n",
    "        thisdict[folder] = int(size)\n",
    "        total += filesize\n",
    "    \n",
    "    # Directory\n",
    "    elif line[0:4] == 'dir ':\n",
    "        filesize = 0\n",
    "        thisdict[folder] = int(size)\n",
    "        total += filesize\n"
   ]
  },
  {
   "cell_type": "code",
   "execution_count": 555,
   "id": "adf98b89-5007-4548-b3d8-d28abe06a933",
   "metadata": {},
   "outputs": [
    {
     "name": "stdout",
     "output_type": "stream",
     "text": [
      "OK\n",
      "OK\n",
      "OK\n",
      "OK\n",
      "OK\n"
     ]
    }
   ],
   "source": [
    "if thisdict['/bzcg/'] == 549749:\n",
    "    print('OK')\n",
    "\n",
    "if thisdict['/bzcg/fwmbbvj/dhdgrhg/'] == 392300:\n",
    "    print('OK')\n",
    "\n",
    "if thisdict['/bzcg/fwmbbvj/fmdbzs/jrzcqs/zwpjpt/jrzcqs/sfpqf/'] == 329091:\n",
    "    print('OK')\n",
    "\n",
    "if thisdict['/bzcg/fwmbbvj/nzmddp/dqjrv/gnp/dhnwcgb/'] == 119009:\n",
    "    print('OK')\n",
    "    \n",
    "if thisdict['/nzmddp/pzptv/mjc/wcqv/fwvf/'] == 280201:\n",
    "    print('OK')"
   ]
  },
  {
   "cell_type": "markdown",
   "id": "3bf5da8e-6c70-4e65-b2e2-3da88a9f15d9",
   "metadata": {},
   "source": [
    "Total size of a given directory (including directories within)"
   ]
  },
  {
   "cell_type": "code",
   "execution_count": 556,
   "id": "9c4c6752-aa2e-48e1-ba59-d6c6d2dc0251",
   "metadata": {},
   "outputs": [],
   "source": [
    "newdict = {}\n",
    "\n",
    "for f, s in thisdict.items():\n",
    "\n",
    "    newsize = 0\n",
    "    for f2, s2 in thisdict.items():\n",
    "        if f2.startswith(f):\n",
    "            newsize += s2\n",
    "            \n",
    "    newdict[f] = int(newsize)\n"
   ]
  },
  {
   "cell_type": "code",
   "execution_count": 557,
   "id": "71aeaae7-dbea-4b4a-b424-ac337d6e57c6",
   "metadata": {},
   "outputs": [
    {
     "data": {
      "text/plain": [
       "{'/': 48008081,\n",
       " '/bzcg/': 9725484,\n",
       " '/bzcg/fwmbbvj/': 7506781,\n",
       " '/bzcg/fwmbbvj/dhdgrhg/': 392300,\n",
       " '/bzcg/fwmbbvj/fmdbzs/': 2627738,\n",
       " '/bzcg/fwmbbvj/fmdbzs/cgvwgw/': 236634,\n",
       " '/bzcg/fwmbbvj/fmdbzs/cgvwgw/nzmddp/': 236634,\n",
       " '/bzcg/fwmbbvj/fmdbzs/jrzcqs/': 1880653,\n",
       " '/bzcg/fwmbbvj/fmdbzs/jrzcqs/vtjlsltn/': 652000,\n",
       " '/bzcg/fwmbbvj/fmdbzs/jrzcqs/zwpjpt/': 329091,\n",
       " '/bzcg/fwmbbvj/fmdbzs/jrzcqs/zwpjpt/jrzcqs/': 329091,\n",
       " '/bzcg/fwmbbvj/fmdbzs/jrzcqs/zwpjpt/jrzcqs/sfpqf/': 329091,\n",
       " '/bzcg/fwmbbvj/hfczrwl/': 875708,\n",
       " '/bzcg/fwmbbvj/hfczrwl/crdbqlvs/': 89872,\n",
       " '/bzcg/fwmbbvj/hfczrwl/jnplb/': 703177,\n",
       " '/bzcg/fwmbbvj/hzdt/': 512689,\n",
       " '/bzcg/fwmbbvj/hzdt/qgdncp/': 315587,\n",
       " '/bzcg/fwmbbvj/hzdt/qgdncp/ndn/': 280908,\n",
       " '/bzcg/fwmbbvj/hzdt/qgdncp/ndn/ppfmfq/': 176104,\n",
       " '/bzcg/fwmbbvj/lchzdqv/': 267779,\n",
       " '/bzcg/fwmbbvj/llfhrcjr/': 287276,\n",
       " '/bzcg/fwmbbvj/nzmddp/': 1238794,\n",
       " '/bzcg/fwmbbvj/nzmddp/cdp/': 788536,\n",
       " '/bzcg/fwmbbvj/nzmddp/cdp/znzszz/': 562193,\n",
       " '/bzcg/fwmbbvj/nzmddp/dqjrv/': 279048,\n",
       " '/bzcg/fwmbbvj/nzmddp/dqjrv/gnp/': 119009,\n",
       " '/bzcg/fwmbbvj/nzmddp/dqjrv/gnp/dhnwcgb/': 119009,\n",
       " '/bzcg/fwmbbvj/stg/': 413889,\n",
       " '/bzcg/fwmbbvj/stg/fntwgzz/': 289241,\n",
       " '/bzcg/fwmbbvj/stg/gtbgr/': 124648,\n",
       " '/bzcg/mpsthvvc/': 164129,\n",
       " '/bzcg/zwmp/': 1504825,\n",
       " '/bzcg/zwmp/cfgg/': 139209,\n",
       " '/bzcg/zwmp/tlcl/': 39093,\n",
       " '/hrtvrp/': 585884,\n",
       " '/hrtvrp/bmsw/': 428506,\n",
       " '/jvj/': 14629551,\n",
       " '/jvj/cfgg/': 179999,\n",
       " '/jvj/dppgmmgh/': 208287,\n",
       " '/jvj/dppgmmgh/bwwnwt/': 208287,\n",
       " '/jvj/hdmc/': 1818023,\n",
       " '/jvj/hdmc/mqdqjrp/': 491714,\n",
       " '/jvj/hdmc/qccm/': 786096,\n",
       " '/jvj/hdmc/wzs/': 319883,\n",
       " '/jvj/sfpqf/': 12367143,\n",
       " '/jvj/sfpqf/ccsbqncb/': 187812,\n",
       " '/jvj/sfpqf/cfgg/': 10715508,\n",
       " '/jvj/sfpqf/cfgg/cfgg/': 288249,\n",
       " '/jvj/sfpqf/cfgg/hpbq/': 625057,\n",
       " '/jvj/sfpqf/cfgg/jrzcqs/': 643453,\n",
       " '/jvj/sfpqf/cfgg/jrzcqs/ltr/': 339178,\n",
       " '/jvj/sfpqf/cfgg/nzmddp/': 8278005,\n",
       " '/jvj/sfpqf/cfgg/nzmddp/cfgg/': 693674,\n",
       " '/jvj/sfpqf/cfgg/nzmddp/hnp/': 215530,\n",
       " '/jvj/sfpqf/cfgg/nzmddp/mtzgr/': 138609,\n",
       " '/jvj/sfpqf/cfgg/nzmddp/nrtvg/': 3453419,\n",
       " '/jvj/sfpqf/cfgg/nzmddp/nrtvg/gtc/': 3310599,\n",
       " '/jvj/sfpqf/cfgg/nzmddp/nrtvg/gtc/pgd/': 960179,\n",
       " '/jvj/sfpqf/cfgg/nzmddp/nrtvg/gtc/pgd/bsfv/': 930711,\n",
       " '/jvj/sfpqf/cfgg/nzmddp/nrtvg/gtc/pgd/bsfv/lwdpmn/': 126870,\n",
       " '/jvj/sfpqf/cfgg/nzmddp/nrtvg/gtc/pgd/bsfv/nzmddp/': 551793,\n",
       " '/jvj/sfpqf/cfgg/nzmddp/nrtvg/gtc/pgd/bsfv/znzszz/': 252048,\n",
       " '/jvj/sfpqf/cfgg/nzmddp/nrtvg/gtc/smprtrhs/': 509394,\n",
       " '/jvj/sfpqf/cfgg/nzmddp/nrtvg/gtc/trppqf/': 1638503,\n",
       " '/jvj/sfpqf/cfgg/nzmddp/nrtvg/gtc/trppqf/hdg/': 102960,\n",
       " '/jvj/sfpqf/cfgg/nzmddp/nrtvg/gtc/trppqf/hdg/sqmnmnhd/': 102960,\n",
       " '/jvj/sfpqf/cfgg/nzmddp/nrtvg/gtc/trppqf/nzmddp/': 1352298,\n",
       " '/jvj/sfpqf/cfgg/nzmddp/nzmddp/': 3776773,\n",
       " '/jvj/sfpqf/cfgg/nzmddp/nzmddp/jrzcqs/': 761993,\n",
       " '/jvj/sfpqf/cfgg/nzmddp/nzmddp/zszhsnb/': 2930739,\n",
       " '/jvj/sfpqf/cfgg/nzmddp/nzmddp/zszhsnb/hcrnn/': 188774,\n",
       " '/jvj/sfpqf/cfgg/nzmddp/nzmddp/zszhsnb/hlrjcm/': 70451,\n",
       " '/jvj/sfpqf/cfgg/nzmddp/nzmddp/zszhsnb/hlrjcm/cfgg/': 70451,\n",
       " '/jvj/sfpqf/cfgg/nzmddp/nzmddp/zszhsnb/jqbwl/': 283986,\n",
       " '/jvj/sfpqf/cfgg/nzmddp/nzmddp/zszhsnb/jqbwl/znzszz/': 283986,\n",
       " '/jvj/sfpqf/cfgg/nzmddp/nzmddp/zszhsnb/jrzcqs/': 93117,\n",
       " '/jvj/sfpqf/cfgg/nzmddp/nzmddp/zszhsnb/nzmddp/': 163289,\n",
       " '/jvj/sfpqf/cfgg/nzmddp/nzmddp/zszhsnb/nzmddp/nzmddp/': 163289,\n",
       " '/jvj/sfpqf/cfgg/nzmddp/nzmddp/zszhsnb/tshj/': 1394853,\n",
       " '/jvj/sfpqf/cfgg/nzmddp/nzmddp/zszhsnb/tshj/jcrmv/': 288613,\n",
       " '/jvj/sfpqf/cfgg/nzmddp/nzmddp/zszhsnb/tshj/srddr/': 538242,\n",
       " '/jvj/sfpqf/cfgg/nzmddp/nzmddp/zszhsnb/tshj/znzszz/': 327063,\n",
       " '/jvj/sfpqf/cfgg/znzszz/': 227452,\n",
       " '/jvj/sfpqf/jrzcqs/': 104553,\n",
       " '/jvj/sfpqf/nzmddp/': 201456,\n",
       " '/jvj/sfpqf/sfpqf/': 1157814,\n",
       " '/jvj/sfpqf/sfpqf/smr/': 484176,\n",
       " '/jvj/sfpqf/sfpqf/smr/wnjnslvd/': 484176,\n",
       " '/jvj/sfpqf/sfpqf/smr/wnjnslvd/nzmddp/': 323730,\n",
       " '/jvj/sfpqf/sfpqf/tttvzmnm/': 673638,\n",
       " '/jvj/sfpqf/sfpqf/tttvzmnm/csvhmb/': 299075,\n",
       " '/jvj/sfpqf/sfpqf/tttvzmnm/znzszz/': 15914,\n",
       " '/ltrqb/': 1423000,\n",
       " '/ltrqb/gzhrbrr/': 843272,\n",
       " '/ltrqb/twf/': 300823,\n",
       " '/ltrqb/twf/mfd/': 300823,\n",
       " '/ltrqb/vptsc/': 156341,\n",
       " '/msqlnht/': 7999160,\n",
       " '/msqlnht/dcv/': 785389,\n",
       " '/msqlnht/dht/': 1348982,\n",
       " '/msqlnht/dht/bwfcs/': 1348982,\n",
       " '/msqlnht/dht/bwfcs/tjgjdj/': 19838,\n",
       " '/msqlnht/dht/bwfcs/tjgjdj/dljdshp/': 19838,\n",
       " '/msqlnht/dht/bwfcs/znzszz/': 1329144,\n",
       " '/msqlnht/dht/bwfcs/znzszz/crwt/': 423865,\n",
       " '/msqlnht/dht/bwfcs/znzszz/dwdjmnl/': 328558,\n",
       " '/msqlnht/dht/bwfcs/znzszz/jrzcqs/': 227320,\n",
       " '/msqlnht/dht/bwfcs/znzszz/rldp/': 349401,\n",
       " '/msqlnht/hsn/': 256123,\n",
       " '/msqlnht/sth/': 4220913,\n",
       " '/msqlnht/sth/dscngvc/': 904174,\n",
       " '/msqlnht/sth/dscngvc/rmsgtb/': 371368,\n",
       " '/msqlnht/sth/dscngvc/rmsgtb/gnmf/': 47246,\n",
       " '/msqlnht/sth/glqq/': 66844,\n",
       " '/msqlnht/sth/hqrrrz/': 1113362,\n",
       " '/msqlnht/sth/hqrrrz/lcq/': 334646,\n",
       " '/msqlnht/sth/rlzhq/': 606535,\n",
       " '/msqlnht/sth/sbv/': 941699,\n",
       " '/msqlnht/sth/sbv/nzmddp/': 372978,\n",
       " '/msqlnht/sth/sbv/nzmddp/jrzcqs/': 41263,\n",
       " '/msqlnht/sth/sbv/nzmddp/jrzcqs/lsjfn/': 41263,\n",
       " '/msqlnht/sth/sbv/nzmddp/nvsf/': 137050,\n",
       " '/msqlnht/twgmlhtp/': 410383,\n",
       " '/msqlnht/twgmlhtp/rbhnjvrz/': 125470,\n",
       " '/msqlnht/twgmlhtp/rbhnjvrz/vlcm/': 125470,\n",
       " '/mvs/': 347810,\n",
       " '/mvs/cfmqw/': 236767,\n",
       " '/mvs/dpj/': 47261,\n",
       " '/mvs/dpj/wcgz/': 47261,\n",
       " '/mvs/dpj/wcgz/jrzcqs/': 47261,\n",
       " '/mvs/znzszz/': 63782,\n",
       " '/nzmddp/': 11798147,\n",
       " '/nzmddp/fpnrzl/': 553791,\n",
       " '/nzmddp/fpnrzl/jrzcqs/': 266004,\n",
       " '/nzmddp/fpnrzl/jrzcqs/znzszz/': 148863,\n",
       " '/nzmddp/fpnrzl/mpzrrjd/': 287787,\n",
       " '/nzmddp/jrzcqs/': 279285,\n",
       " '/nzmddp/jrzcqs/zqcdfq/': 250109,\n",
       " '/nzmddp/jrzcqs/zqcdfq/nzmddp/': 115602,\n",
       " '/nzmddp/mbqjsfj/': 8422,\n",
       " '/nzmddp/nhnnmhj/': 172791,\n",
       " '/nzmddp/pwjwc/': 1982722,\n",
       " '/nzmddp/pwjwc/fwtnnrb/': 1060154,\n",
       " '/nzmddp/pwjwc/fwtnnrb/jrzcqs/': 291270,\n",
       " '/nzmddp/pwjwc/fwtnnrb/mfvntmf/': 276458,\n",
       " '/nzmddp/pwjwc/fwtnnrb/mfvntmf/rlv/': 135665,\n",
       " '/nzmddp/pwjwc/fwtnnrb/mfvntmf/rlv/ddjcz/': 135665,\n",
       " '/nzmddp/pwjwc/fwtnnrb/qscphr/': 198056,\n",
       " '/nzmddp/pwjwc/fwtnnrb/qscphr/lrhmvmq/': 198056,\n",
       " '/nzmddp/pwjwc/zhdq/': 922568,\n",
       " '/nzmddp/pzptv/': 2675001,\n",
       " '/nzmddp/pzptv/mjc/': 280201,\n",
       " '/nzmddp/pzptv/mjc/wcqv/': 280201,\n",
       " '/nzmddp/pzptv/mjc/wcqv/fwvf/': 280201,\n",
       " '/nzmddp/pzptv/qjfgzqj/': 424741,\n",
       " '/nzmddp/pzptv/qjfgzqj/nzmddp/': 322558,\n",
       " '/nzmddp/pzptv/sfpqf/': 105254,\n",
       " '/nzmddp/pzptv/vczrqhtd/': 1226520,\n",
       " '/nzmddp/pzptv/vczrqhtd/pfvwwzfl/': 138311,\n",
       " '/nzmddp/pzptv/vczrqhtd/zjtcbps/': 566893,\n",
       " '/nzmddp/pzptv/znzszz/': 465008,\n",
       " '/nzmddp/sfpqf/': 4601874,\n",
       " '/nzmddp/sfpqf/jrzcqs/': 3261958,\n",
       " '/nzmddp/sfpqf/jrzcqs/glwz/': 377080,\n",
       " '/nzmddp/sfpqf/jrzcqs/glwz/mhrdgfp/': 171876,\n",
       " '/nzmddp/sfpqf/jrzcqs/glwz/mwttjss/': 205204,\n",
       " '/nzmddp/sfpqf/jrzcqs/glwz/mwttjss/wndm/': 96467,\n",
       " '/nzmddp/sfpqf/jrzcqs/plhqw/': 247813,\n",
       " '/nzmddp/sfpqf/jrzcqs/pts/': 1102248,\n",
       " '/nzmddp/sfpqf/jrzcqs/pts/cfgg/': 159819,\n",
       " '/nzmddp/sfpqf/jrzcqs/pts/tfzn/': 42960,\n",
       " '/nzmddp/sfpqf/jrzcqs/pts/vrsh/': 342843,\n",
       " '/nzmddp/sfpqf/jrzcqs/pts/vrsh/jddbf/': 342843,\n",
       " '/nzmddp/sfpqf/jrzcqs/qcqcnqvp/': 686684,\n",
       " '/nzmddp/sfpqf/jrzcqs/qcqcnqvp/mlnmbs/': 211179,\n",
       " '/nzmddp/sfpqf/jrzcqs/qcqcnqvp/sfpqf/': 221804,\n",
       " '/nzmddp/sfpqf/jrzcqs/qcqcnqvp/sfpqf/nzmddp/': 221804,\n",
       " '/nzmddp/sfpqf/jrzcqs/znzszz/': 299151,\n",
       " '/nzmddp/sfpqf/jrzcqs/znzszz/cqq/': 37926,\n",
       " '/nzmddp/sfpqf/ntcptsd/': 67249,\n",
       " '/nzmddp/sfpqf/ntcptsd/lmbznbsd/': 67249,\n",
       " '/nzmddp/sfpqf/rsgdd/': 198925,\n",
       " '/nzmddp/znzszz/': 830245,\n",
       " '/zjvncc/': 1499045,\n",
       " '/zjvncc/dswznwtf/': 223569,\n",
       " '/zjvncc/qsq/': 149224,\n",
       " '/zjvncc/rzbnmn/': 558309,\n",
       " '/zjvncc/rzbnmn/fpj/': 212353,\n",
       " '/zjvncc/rzbnmn/jrzcqs/': 288350}"
      ]
     },
     "execution_count": 557,
     "metadata": {},
     "output_type": "execute_result"
    }
   ],
   "source": [
    "newdict"
   ]
  },
  {
   "cell_type": "code",
   "execution_count": 558,
   "id": "dacaafbe-b916-4d0e-b558-b21cd8d9cf55",
   "metadata": {},
   "outputs": [
    {
     "data": {
      "text/plain": [
       "1141028"
      ]
     },
     "execution_count": 558,
     "metadata": {},
     "output_type": "execute_result"
    }
   ],
   "source": [
    "filtered = {k: v for k, v in newdict.items() if v <= 100000}\n",
    "\n",
    "sum([v for k, v in filtered.items()])"
   ]
  },
  {
   "cell_type": "code",
   "execution_count": 559,
   "id": "e95a5b2e-bb27-4579-ae93-66203709c8de",
   "metadata": {},
   "outputs": [
    {
     "name": "stdout",
     "output_type": "stream",
     "text": [
      "48008081\n",
      "48008081\n",
      "48008081\n"
     ]
    }
   ],
   "source": [
    "# Sanity check - these should all be the same\n",
    "\n",
    "print(newdict['/'])\n",
    "print(sum(thisdict.values()))\n",
    "print(total)"
   ]
  },
  {
   "cell_type": "markdown",
   "id": "0e884d58-469e-44ca-8b05-7c833ed9c243",
   "metadata": {},
   "source": [
    "## Part 2"
   ]
  },
  {
   "cell_type": "code",
   "execution_count": 560,
   "id": "b42cd20c-ce85-4ee8-b1ce-3ba81b3ddbc0",
   "metadata": {},
   "outputs": [
    {
     "name": "stdout",
     "output_type": "stream",
     "text": [
      "8008081\n"
     ]
    }
   ],
   "source": [
    "total = newdict['/']\n",
    "need = 30000000 - (70000000 - total)\n",
    "print(need)"
   ]
  },
  {
   "cell_type": "code",
   "execution_count": 551,
   "id": "c4b4f5d7-019e-4355-9cbd-8f52af922e94",
   "metadata": {},
   "outputs": [
    {
     "data": {
      "text/plain": [
       "{'/': 48008081,\n",
       " '/bzcg/': 9725484,\n",
       " '/jvj/': 14629551,\n",
       " '/jvj/sfpqf/': 12367143,\n",
       " '/jvj/sfpqf/cfgg/': 10715508,\n",
       " '/jvj/sfpqf/cfgg/nzmddp/': 8278005,\n",
       " '/nzmddp/': 11798147}"
      ]
     },
     "execution_count": 551,
     "metadata": {},
     "output_type": "execute_result"
    }
   ],
   "source": [
    "freeingspace = {k: v for k, v in newdict.items() if v >= need}\n",
    "freeingspace"
   ]
  },
  {
   "cell_type": "code",
   "execution_count": 552,
   "id": "39a1777c-1b08-4a3d-b1be-6c203821cb6c",
   "metadata": {},
   "outputs": [
    {
     "data": {
      "text/plain": [
       "8278005"
      ]
     },
     "execution_count": 552,
     "metadata": {},
     "output_type": "execute_result"
    }
   ],
   "source": [
    "min(freeingspace.values())"
   ]
  }
 ],
 "metadata": {
  "kernelspec": {
   "display_name": "Python 3",
   "language": "python",
   "name": "python3"
  },
  "language_info": {
   "codemirror_mode": {
    "name": "ipython",
    "version": 3
   },
   "file_extension": ".py",
   "mimetype": "text/x-python",
   "name": "python",
   "nbconvert_exporter": "python",
   "pygments_lexer": "ipython3",
   "version": "3.8.8"
  }
 },
 "nbformat": 4,
 "nbformat_minor": 5
}
