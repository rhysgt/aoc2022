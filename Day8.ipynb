{
 "cells": [
  {
   "cell_type": "code",
   "execution_count": 325,
   "id": "ec4b2570-f455-4f59-af42-debc635c6820",
   "metadata": {},
   "outputs": [],
   "source": [
    "import numpy as np\n",
    "\n",
    "file1 = open('inputs/Day8', 'r')\n",
    "lines = file1.readlines()"
   ]
  },
  {
   "cell_type": "code",
   "execution_count": 326,
   "id": "b695fcc5-2983-4435-bbf4-731f2605c329",
   "metadata": {},
   "outputs": [],
   "source": [
    "# Split string of number into numpy array\n",
    "trees = np.array([[int(tree) for tree in line[:-1]] for line in lines])"
   ]
  },
  {
   "cell_type": "code",
   "execution_count": 327,
   "id": "f3f12b05-3dc1-45cf-b0bd-08e9c619090b",
   "metadata": {},
   "outputs": [],
   "source": [
    "#trees = np.array([[3,0,3,7,3],\n",
    "#[2,5,5,1,2],\n",
    "#[6,5,3,3,2],\n",
    "#[3,3,5,4,9],\n",
    "#[3,5,3,9,0]])"
   ]
  },
  {
   "cell_type": "code",
   "execution_count": 328,
   "id": "cafe1e58-6e3c-4b7f-9d17-6ffa4a332c1a",
   "metadata": {},
   "outputs": [
    {
     "name": "stdout",
     "output_type": "stream",
     "text": [
      "[[2 3 1 ... 2 3 1]\n",
      " [0 0 2 ... 1 2 1]\n",
      " [2 2 0 ... 0 3 0]\n",
      " ...\n",
      " [0 2 0 ... 1 1 1]\n",
      " [1 1 0 ... 0 1 2]\n",
      " [2 0 2 ... 1 1 2]]\n"
     ]
    }
   ],
   "source": [
    "print(trees)"
   ]
  },
  {
   "cell_type": "markdown",
   "id": "7e7369a7-4ec7-46d3-aba1-7cc07ed24b07",
   "metadata": {},
   "source": [
    "## Part 1"
   ]
  },
  {
   "cell_type": "code",
   "execution_count": 329,
   "id": "bd40dee4-91b1-4970-878e-7f8eaa54ebad",
   "metadata": {},
   "outputs": [
    {
     "name": "stdout",
     "output_type": "stream",
     "text": [
      "[[0 0 0 ... 0 0 0]\n",
      " [0 0 0 ... 0 0 0]\n",
      " [0 0 0 ... 0 0 0]\n",
      " ...\n",
      " [0 0 0 ... 0 0 0]\n",
      " [0 0 0 ... 0 0 0]\n",
      " [0 0 0 ... 0 0 0]]\n"
     ]
    }
   ],
   "source": [
    "visible = np.zeros_like(trees)\n",
    "print(visible) "
   ]
  },
  {
   "cell_type": "code",
   "execution_count": 330,
   "id": "d55bd715-8542-4a28-a14f-15a676cb3474",
   "metadata": {},
   "outputs": [],
   "source": [
    "for y, row in enumerate(trees):\n",
    "    for x, height in enumerate(row):\n",
    "\n",
    "        if x == 0 or y == 0 or y == len(trees[:,0])-1 or x == len(trees[0])-1:\n",
    "            visible[y, x] = 1\n",
    "            \n",
    "        else:\n",
    "            #look left\n",
    "            if max(trees[y, 0:x]) < height:\n",
    "                visible[y, x] = 1\n",
    "\n",
    "            #look right\n",
    "            if max(trees[y, x+1:]) < height:\n",
    "                visible[y, x] = 1\n",
    "\n",
    "            #look up\n",
    "            if max(trees[0:y, x]) < height:\n",
    "                visible[y, x] = 1\n",
    "\n",
    "            #look down\n",
    "            if max(trees[y+1:, x]) < height:\n",
    "                visible[y, x] = 1\n",
    "        "
   ]
  },
  {
   "cell_type": "code",
   "execution_count": 331,
   "id": "c0f333e3-4753-49b7-93cd-8096c251a95a",
   "metadata": {},
   "outputs": [
    {
     "name": "stdout",
     "output_type": "stream",
     "text": [
      "[[1 1 1 ... 1 1 1]\n",
      " [1 0 1 ... 0 1 1]\n",
      " [1 0 0 ... 0 1 1]\n",
      " ...\n",
      " [1 1 0 ... 0 0 1]\n",
      " [1 1 0 ... 0 0 1]\n",
      " [1 1 1 ... 1 1 1]]\n"
     ]
    }
   ],
   "source": [
    "print(visible)"
   ]
  },
  {
   "cell_type": "code",
   "execution_count": 332,
   "id": "06de490e-d344-4838-b273-a5799199c79f",
   "metadata": {},
   "outputs": [
    {
     "name": "stdout",
     "output_type": "stream",
     "text": [
      "1662\n"
     ]
    }
   ],
   "source": [
    "print(np.sum(visible))"
   ]
  },
  {
   "cell_type": "markdown",
   "id": "0e884d58-469e-44ca-8b05-7c833ed9c243",
   "metadata": {},
   "source": [
    "## Part 2"
   ]
  },
  {
   "cell_type": "code",
   "execution_count": 333,
   "id": "95058f61-ea2c-4c02-a5e7-106a60d97c96",
   "metadata": {},
   "outputs": [
    {
     "name": "stdout",
     "output_type": "stream",
     "text": [
      "[[1 1 1 ... 1 1 1]\n",
      " [1 1 1 ... 1 1 1]\n",
      " [1 1 1 ... 1 1 1]\n",
      " ...\n",
      " [1 1 1 ... 1 1 1]\n",
      " [1 1 1 ... 1 1 1]\n",
      " [1 1 1 ... 1 1 1]]\n"
     ]
    }
   ],
   "source": [
    "scenic = np.ones_like(trees)\n",
    "print(scenic) "
   ]
  },
  {
   "cell_type": "code",
   "execution_count": 334,
   "id": "9448b20d-989f-48a3-ac69-ed83ce3ad570",
   "metadata": {},
   "outputs": [],
   "source": [
    "for y, row in enumerate(trees):\n",
    "    for x, height in enumerate(row):\n",
    "\n",
    "        if x == 0 or y == 0 or y == len(trees[:,0])-1 or x == len(trees[0])-1:\n",
    "            scenic[y, x] = 1\n",
    "            \n",
    "        else:\n",
    "            \n",
    "            # left / right / up / down\n",
    "            for array in [np.flip(trees[y, 0:x]), trees[y, x+1:], np.flip(trees[0:y, x]), trees[y+1:, x]]:\n",
    "            \n",
    "                current_count = 0\n",
    "\n",
    "                if np.max(array) < height:\n",
    "                    current_count = len(array)\n",
    "\n",
    "                else:\n",
    "                    index = np.where(array >= height)[0][0]\n",
    "                    current_count = index + 1\n",
    "\n",
    "                scenic[y,x] *= current_count\n",
    "                "
   ]
  },
  {
   "cell_type": "code",
   "execution_count": 335,
   "id": "be124111-6f81-4570-85ab-900f1d71a65b",
   "metadata": {},
   "outputs": [
    {
     "name": "stdout",
     "output_type": "stream",
     "text": [
      "537600\n"
     ]
    }
   ],
   "source": [
    "print(np.max(scenic))"
   ]
  },
  {
   "cell_type": "code",
   "execution_count": 336,
   "id": "a1a075e5-1d30-4ae1-8f81-edb030dfafe8",
   "metadata": {},
   "outputs": [
    {
     "name": "stdout",
     "output_type": "stream",
     "text": [
      "[[ 1  1  1 ...  1  1  1]\n",
      " [ 1  1  8 ...  2  4  1]\n",
      " [ 1 12  1 ...  1 12  1]\n",
      " ...\n",
      " [ 1 30  1 ...  2  2  1]\n",
      " [ 1  2  1 ...  1  4  1]\n",
      " [ 1  1  1 ...  1  1  1]]\n"
     ]
    }
   ],
   "source": [
    "print(scenic)"
   ]
  },
  {
   "cell_type": "code",
   "execution_count": null,
   "id": "2af66f3a-3a9e-487f-99a9-ab8125908e6f",
   "metadata": {},
   "outputs": [],
   "source": []
  }
 ],
 "metadata": {
  "kernelspec": {
   "display_name": "Python 3",
   "language": "python",
   "name": "python3"
  },
  "language_info": {
   "codemirror_mode": {
    "name": "ipython",
    "version": 3
   },
   "file_extension": ".py",
   "mimetype": "text/x-python",
   "name": "python",
   "nbconvert_exporter": "python",
   "pygments_lexer": "ipython3",
   "version": "3.8.8"
  }
 },
 "nbformat": 4,
 "nbformat_minor": 5
}
