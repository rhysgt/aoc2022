{
 "cells": [
  {
   "cell_type": "code",
   "execution_count": 201,
   "id": "ae85e35b-2446-4624-bd5b-acd33e344b69",
   "metadata": {},
   "outputs": [],
   "source": [
    "import numpy as np"
   ]
  },
  {
   "cell_type": "code",
   "execution_count": 207,
   "id": "ec4b2570-f455-4f59-af42-debc635c6820",
   "metadata": {},
   "outputs": [],
   "source": [
    "## Load file and read lines\n",
    "file1 = open('inputs/Day5', 'r')\n",
    "lines = file1.readlines()"
   ]
  },
  {
   "cell_type": "code",
   "execution_count": 208,
   "id": "e5563caf-92e1-4ac7-8261-d333534f2958",
   "metadata": {},
   "outputs": [],
   "source": [
    "crates = []\n",
    "\n",
    "for i, line in enumerate(lines):\n",
    "    if i < 8:\n",
    "        crates.append([line[col] for col in np.arange(1,36,4)])\n",
    "        \n",
    "#Transpose and keep as lists\n",
    "crates = [list(crates) for crates in zip(*crates)]\n",
    "\n",
    "# Remove blanks\n",
    "crates = [[elem for elem in row if elem != \" \"] for row in crates]\n",
    "        "
   ]
  },
  {
   "cell_type": "code",
   "execution_count": 209,
   "id": "4aea0700-47a2-46f8-bf77-283595c8e272",
   "metadata": {},
   "outputs": [
    {
     "name": "stdout",
     "output_type": "stream",
     "text": [
      "TOP -> BOTTOM\n",
      "0 -> 9\n",
      "[['R', 'C', 'H'], ['F', 'S', 'L', 'H', 'J', 'B'], ['Q', 'T', 'J', 'H', 'D', 'M', 'R'], ['J', 'B', 'Z', 'H', 'R', 'G', 'S'], ['B', 'C', 'D', 'T', 'Z', 'F', 'P', 'R'], ['G', 'C', 'H', 'T'], ['L', 'W', 'P', 'B', 'Z', 'V', 'N', 'S'], ['C', 'G', 'Q', 'J', 'R'], ['S', 'F', 'P', 'H', 'R', 'T', 'D', 'L']]\n"
     ]
    }
   ],
   "source": [
    "print('TOP -> BOTTOM')\n",
    "print('0 -> 9')\n",
    "print(crates)"
   ]
  },
  {
   "cell_type": "markdown",
   "id": "eec310b1-e655-4bb1-8ff8-78adf835f933",
   "metadata": {},
   "source": [
    "## Part 1"
   ]
  },
  {
   "cell_type": "code",
   "execution_count": 180,
   "id": "e0df15db-a684-4d0e-ac02-485df55e9b8d",
   "metadata": {},
   "outputs": [],
   "source": [
    "for i, line in enumerate(lines):\n",
    "    if i > 9:\n",
    "        \n",
    "        num = int(line.split(' ')[1])\n",
    "        \n",
    "        for j in np.arange(num):\n",
    "\n",
    "            frm = int(line.split(' ')[3])\n",
    "\n",
    "            to = int(line.split(' ')[5])\n",
    "\n",
    "            # Find string and insert to beginning of destination list\n",
    "            str_frm = crates[frm-1][0]\n",
    "            crates[to-1].insert(0, str_frm)\n",
    "            \n",
    "            # Remove from source\n",
    "            crates[frm-1] = crates[frm-1][1:]\n",
    "        "
   ]
  },
  {
   "cell_type": "code",
   "execution_count": 183,
   "id": "14b903d1-dc06-4902-b69f-e79ea6ecb596",
   "metadata": {},
   "outputs": [
    {
     "name": "stdout",
     "output_type": "stream",
     "text": [
      "TOP -> BOTTOM\n",
      "0 -> 9\n",
      "[['S', 'F', 'H', 'C', 'T', 'G', 'H', 'F', 'Q', 'V', 'M'], ['H', 'C', 'P', 'Z', 'B', 'J', 'R'], ['Q', 'D', 'Z', 'D', 'R', 'J'], ['W'], ['S', 'G', 'J'], ['R'], ['B', 'T'], ['D', 'T', 'R', 'T', 'J', 'S', 'R', 'L', 'L', 'G', 'P', 'Z', 'N', 'C', 'H', 'C', 'S', 'H', 'H', 'B', 'R', 'F', 'P', 'B'], ['L']]\n"
     ]
    }
   ],
   "source": [
    "print('TOP -> BOTTOM')\n",
    "print('0 -> 9')\n",
    "print(crates)"
   ]
  },
  {
   "cell_type": "code",
   "execution_count": 182,
   "id": "849f2d3f-abd4-4b80-8f0c-cc691e9259e0",
   "metadata": {},
   "outputs": [
    {
     "data": {
      "text/plain": [
       "['S', 'H', 'Q', 'W', 'S', 'R', 'B', 'D', 'L']"
      ]
     },
     "execution_count": 182,
     "metadata": {},
     "output_type": "execute_result"
    }
   ],
   "source": [
    "[crate[0] for crate in crates]"
   ]
  },
  {
   "cell_type": "markdown",
   "id": "06cc6467-ab8e-406c-ae9d-26a3a5c24157",
   "metadata": {},
   "source": [
    "## Part 2"
   ]
  },
  {
   "cell_type": "code",
   "execution_count": 210,
   "id": "a9ade488-aa87-4784-8dd7-2dd36220a998",
   "metadata": {},
   "outputs": [],
   "source": [
    "for i, line in enumerate(lines):\n",
    "    if i > 9:\n",
    "        \n",
    "        num = int(line.split(' ')[1])\n",
    "        \n",
    "        for j in np.arange(num):\n",
    "\n",
    "            frm = int(line.split(' ')[3])\n",
    "\n",
    "            to = int(line.split(' ')[5])\n",
    "\n",
    "\n",
    "            # Find string and insert to beginning of destination list\n",
    "            str_frm = crates[frm-1][0]\n",
    "            crates[to-1].insert(j, str_frm)\n",
    "            \n",
    "            # Remove from source\n",
    "            crates[frm-1] = crates[frm-1][1:]\n",
    "        "
   ]
  },
  {
   "cell_type": "code",
   "execution_count": 211,
   "id": "4b8bd343-c716-4f9c-a6e2-3f286b137da2",
   "metadata": {},
   "outputs": [
    {
     "name": "stdout",
     "output_type": "stream",
     "text": [
      "TOP -> BOTTOM\n",
      "0 -> 9\n",
      "[['C', 'Q', 'B', 'T', 'J', 'T', 'R', 'H', 'M', 'D', 'S'], ['D', 'Z', 'C', 'N', 'T', 'P', 'B'], ['T', 'W', 'R', 'H', 'R', 'S'], ['Q'], ['Z', 'Z', 'F'], ['H'], ['B', 'G'], ['R', 'R', 'F', 'P', 'J', 'H', 'F', 'V', 'S', 'L', 'R', 'H', 'L', 'D', 'J', 'P', 'C', 'J', 'C', 'H', 'L', 'B', 'G', 'G'], ['S']]\n"
     ]
    }
   ],
   "source": [
    "print('TOP -> BOTTOM')\n",
    "print('0 -> 9')\n",
    "print(crates)"
   ]
  },
  {
   "cell_type": "code",
   "execution_count": 212,
   "id": "33293e55-443a-4e19-937a-7f322af35167",
   "metadata": {},
   "outputs": [
    {
     "data": {
      "text/plain": [
       "['C', 'D', 'T', 'Q', 'Z', 'H', 'B', 'R', 'S']"
      ]
     },
     "execution_count": 212,
     "metadata": {},
     "output_type": "execute_result"
    }
   ],
   "source": [
    "[crate[0] for crate in crates]"
   ]
  },
  {
   "cell_type": "code",
   "execution_count": null,
   "id": "522a0abd-14e4-4f89-ab84-7361e4b3a8ba",
   "metadata": {},
   "outputs": [],
   "source": []
  }
 ],
 "metadata": {
  "kernelspec": {
   "display_name": "Python 3",
   "language": "python",
   "name": "python3"
  },
  "language_info": {
   "codemirror_mode": {
    "name": "ipython",
    "version": 3
   },
   "file_extension": ".py",
   "mimetype": "text/x-python",
   "name": "python",
   "nbconvert_exporter": "python",
   "pygments_lexer": "ipython3",
   "version": "3.8.8"
  }
 },
 "nbformat": 4,
 "nbformat_minor": 5
}
